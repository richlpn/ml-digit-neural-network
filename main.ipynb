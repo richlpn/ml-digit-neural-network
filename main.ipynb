{
 "cells": [
  {
   "cell_type": "code",
   "execution_count": 1,
   "metadata": {},
   "outputs": [],
   "source": [
    "import pandas as pd\n",
    "import numpy as np\n",
    "import numpy.typing as npt\n",
    "from typing import NamedTuple, Callable\n",
    "from enum import Enum"
   ]
  },
  {
   "cell_type": "code",
   "execution_count": 2,
   "metadata": {},
   "outputs": [],
   "source": [
    "Images = npt.NDArray[np.int8]\n",
    "# Layer = NamedTuple('Layer', [\n",
    "#     ('weight', npt.NDArray[np.float32]),\n",
    "#     ('bias', npt.NDArray[np.float32]),\n",
    "#     ('activation', Callable),\n",
    "#     ('back_prop', Callable)\n",
    "# ]\n",
    "# )"
   ]
  },
  {
   "attachments": {},
   "cell_type": "markdown",
   "metadata": {},
   "source": [
    "# NN (Perceptron) implementation\n",
    "- 2 layers (with 10 neurons each)\n",
    "    - Hidden layer (Size of the amount of pixel it image has )\n",
    "    - Output layer (indicates one digit from 0 to 9)\n",
    "- 784 inputs (1 image of 28x28 pixels)\n"
   ]
  },
  {
   "cell_type": "code",
   "execution_count": 3,
   "metadata": {},
   "outputs": [],
   "source": [
    "class ActivationFunctions(Enum):\n",
    "\n",
    "    ReLU = 1\n",
    "    SOFTMAX = 2\n",
    "\n",
    "\n",
    "class Layer:\n",
    "\n",
    "    weight: npt.NDArray[np.float32]\n",
    "    bias: npt.NDArray[np.float32]\n",
    "    activation: Callable\n",
    "    derivate: Callable\n",
    "    predict: np.ndarray | None\n",
    "\n",
    "    def __init__(\n",
    "        self,\n",
    "        weight: npt.NDArray[np.float32],\n",
    "        bias: npt.NDArray[np.float32],\n",
    "        act: ActivationFunctions,\n",
    "    ) -> None:\n",
    "\n",
    "        self.weight = weight\n",
    "        self.bias = bias\n",
    "\n",
    "        self.predict = None\n",
    "        self.act_name = act\n",
    "\n",
    "        if act == ActivationFunctions.ReLU:\n",
    "            self.activation = self._ReLU\n",
    "            self.derivate = self._ReLU_derive\n",
    "\n",
    "        elif act == ActivationFunctions.SOFTMAX:\n",
    "            self.activation = self._softmax\n",
    "\n",
    "    def __repr__(self) -> str:\n",
    "        return f\"Layer(neurons={self.weight.shape}, activation={self.act_name})\"\n",
    "\n",
    "    def _ReLU(self) -> np.ndarray:\n",
    "\n",
    "        return np.maximum(self.z, 0)\n",
    "\n",
    "    def _ReLU_derive(self):\n",
    "        return self.z > 0\n",
    "\n",
    "    def _softmax(self):\n",
    "        calc = np.exp(self.z)\n",
    "\n",
    "        return calc / np.sum(calc)\n",
    "\n",
    "    def foward_propagation(self, input: np.ndarray):\n",
    "        self._finput = input\n",
    "        self.z = self.weight.dot(input) + self.bias\n",
    "        self.predict = self.activation()\n",
    "\n",
    "    def back_propagation(\n",
    "        self,\n",
    "        input: np.ndarray,\n",
    "        size: int,\n",
    "        prev_layer: \"Layer | None\" = None,\n",
    "    ):\n",
    "        if self.predict is None:\n",
    "            raise ValueError(\"Wrong usage! Run foward_prop before\")\n",
    "\n",
    "        if prev_layer is None:\n",
    "            self.dz = self.predict - input\n",
    "\n",
    "        else:\n",
    "            self.dz = prev_layer.weight.T.dot(prev_layer.dz) * self.derivate(self.z)\n",
    "\n",
    "        self.dw = (1 / size) * self.dz.dot(self._finput.T)\n",
    "\n",
    "        self.db = (1 / size) * np.sum(self.dz)\n",
    "\n",
    "    def update_weights(self, alpha: float):\n",
    "        self.weight = self.weight - alpha * self.dw\n",
    "        self.bias = self.bias - alpha * self.db"
   ]
  },
  {
   "cell_type": "code",
   "execution_count": 12,
   "metadata": {},
   "outputs": [],
   "source": [
    "class NeuralNetwork:\n",
    "\n",
    "    _layers: list[Layer]\n",
    "    _inputs: np.ndarray\n",
    "    _bias: np.ndarray\n",
    "    _targets_size: int\n",
    "\n",
    "    def _encode_target(self, target: Images) -> npt.NDArray[np.int8]:\n",
    "        \"\"\"One hot encoding of the target predictions\"\"\"\n",
    "        enc = np.zeros((target.size, target.max() + 1))  # array of N labels\n",
    "        # insert 1 in the position that represents the label\n",
    "        enc[np.arange(target.size), target] = 1\n",
    "        return enc.astype(np.int8).T  # As coluns\n",
    "\n",
    "    def __init__(self, inputs: npt.NDArray[np.float32], target: Images) -> None:\n",
    "\n",
    "        self._inputs = inputs\n",
    "        self._targets = self._encode_target(target)\n",
    "        self._targets_size = target.size\n",
    "        self._layers = []\n",
    "\n",
    "    def add_layer(self, neurons_size: int, inputs_size: int, act: ActivationFunctions):\n",
    "\n",
    "        weight = (np.random.rand(neurons_size, inputs_size) - 0.5).astype(\"float32\")\n",
    "\n",
    "        bias = (np.random.rand(neurons_size, 1) - 0.5).astype(\"float32\")\n",
    "\n",
    "        layer = Layer(weight, bias, act)\n",
    "        self._layers.append(layer)\n",
    "\n",
    "    def get_predictions(self):\n",
    "        a = self._layers[-1].predict\n",
    "        if a is None:\n",
    "            raise Exception(\"Not trained\")\n",
    "        return np.argmax(a, 0)\n",
    "\n",
    "    def accuracy(self) -> int:\n",
    "\n",
    "        return np.sum(self.get_predictions() == self._targets) / self._targets_size\n",
    "\n",
    "    def predict(self, input: np.ndarray):\n",
    "        for layer in self._layers:\n",
    "            layer.foward_propagation(input)\n",
    "            predictions = self.get_predictions()\n",
    "        return predictions\n",
    "\n",
    "    def fit(self, iterations: int, alpha: float, logs_step: int = 0):\n",
    "        self.data = [(\"Iteration\", \"Accuracy\")]\n",
    "\n",
    "        for i in range(iterations):\n",
    "            _input = self._inputs\n",
    "            for layer in self._layers:\n",
    "                layer.foward_propagation(_input)  # type: ignore\n",
    "                _input = layer.predict\n",
    "\n",
    "            prev_layer = None\n",
    "            layer_input = self._targets\n",
    "            for layer in reversed(self._layers):\n",
    "                prev_layer = layer.back_propagation(\n",
    "                    input=layer_input,\n",
    "                    size=self._targets_size,\n",
    "                    prev_layer=prev_layer,  # type: ignore\n",
    "                )\n",
    "\n",
    "            for layer in self._layers:\n",
    "                layer.update_weights(alpha)\n",
    "            if logs_step != 0 and i % logs_step == 0:\n",
    "                print(self.accuracy())\n",
    "                self.data.append((i, self.accuracy()))"
   ]
  },
  {
   "attachments": {},
   "cell_type": "markdown",
   "metadata": {},
   "source": [
    "# Aux Functions"
   ]
  },
  {
   "cell_type": "code",
   "execution_count": 5,
   "metadata": {},
   "outputs": [],
   "source": [
    "def get_train_test_data(\n",
    "    data: Images, test_size: int\n",
    ") -> tuple[tuple[Images, Images], tuple[Images, Images]]:\n",
    "    \"\"\"Split the data randomly into train and test data\"\"\"\n",
    "\n",
    "    data = data.copy()\n",
    "\n",
    "    rows, cols = data.shape\n",
    "\n",
    "    np.random.shuffle(data)\n",
    "\n",
    "    data_test = data[0:test_size].T\n",
    "\n",
    "    y_test = data_test[0]\n",
    "    x_test = data_test[1:cols]\n",
    "    x_test = (x_test / 255.0).astype(\"int16\")\n",
    "\n",
    "    data_train = data[1000:rows].T\n",
    "\n",
    "    x_train = (data_train[1:cols] / 255.0).astype(\"int16\")\n",
    "\n",
    "    y_train = data_train[0]\n",
    "\n",
    "    # Split data into labels and input data\n",
    "\n",
    "    return (x_train, y_train), (x_test, y_test)"
   ]
  },
  {
   "attachments": {},
   "cell_type": "markdown",
   "metadata": {},
   "source": [
    "# Import dataset's with the pixels"
   ]
  },
  {
   "cell_type": "code",
   "execution_count": 6,
   "metadata": {},
   "outputs": [],
   "source": [
    "data = np.array(pd.read_csv(\"./digit-recognizer/train.csv\", sep=\",\").astype(\"int16\"))\n",
    "\n",
    "\n",
    "\n",
    "test = pd.read_csv(\"./digit-recognizer/test.csv\")"
   ]
  },
  {
   "attachments": {},
   "cell_type": "markdown",
   "metadata": {},
   "source": [
    "# Transponding dataset so each column is a example image\n",
    "\n",
    "- Also shuffling the dataset (Prevent overfitting while spliting between train and test)"
   ]
  },
  {
   "cell_type": "code",
   "execution_count": 13,
   "metadata": {},
   "outputs": [],
   "source": [
    "(x_train, y_train), (x_test, y_test) = get_train_test_data(data, 1000)"
   ]
  },
  {
   "cell_type": "code",
   "execution_count": 14,
   "metadata": {},
   "outputs": [],
   "source": [
    "model = NeuralNetwork(x_train, y_train)  # type: ignore\n",
    "model.add_layer(10, 784, ActivationFunctions.ReLU)\n",
    "model.add_layer(10, 10, ActivationFunctions.SOFTMAX)"
   ]
  },
  {
   "cell_type": "code",
   "execution_count": 17,
   "metadata": {},
   "outputs": [
    {
     "name": "stdout",
     "output_type": "stream",
     "text": [
      "0.01624390243902439\n",
      "0.019317073170731707\n",
      "0.02129268292682927\n",
      "0.022609756097560975\n",
      "0.026341463414634145\n",
      "0.028317073170731708\n"
     ]
    }
   ],
   "source": []
  },
  {
   "cell_type": "code",
   "execution_count": 18,
   "metadata": {},
   "outputs": [
    {
     "data": {
      "application/vnd.plotly.v1+json": {
       "config": {
        "plotlyServerURL": "https://plot.ly"
       },
       "data": [
        {
         "hovertemplate": "x=%{x}<br>y=%{y}<extra></extra>",
         "legendgroup": "",
         "line": {
          "color": "#636efa",
          "dash": "solid"
         },
         "marker": {
          "symbol": "circle"
         },
         "mode": "lines",
         "name": "",
         "orientation": "v",
         "showlegend": false,
         "type": "scatter",
         "x": [
          0,
          50,
          100,
          150,
          200,
          250
         ],
         "xaxis": "x",
         "y": [
          0.01624390243902439,
          0.019317073170731707,
          0.02129268292682927,
          0.022609756097560975,
          0.026341463414634145,
          0.028317073170731708
         ],
         "yaxis": "y"
        }
       ],
       "layout": {
        "legend": {
         "tracegroupgap": 0
        },
        "margin": {
         "t": 60
        },
        "template": {
         "data": {
          "bar": [
           {
            "error_x": {
             "color": "#2a3f5f"
            },
            "error_y": {
             "color": "#2a3f5f"
            },
            "marker": {
             "line": {
              "color": "#E5ECF6",
              "width": 0.5
             },
             "pattern": {
              "fillmode": "overlay",
              "size": 10,
              "solidity": 0.2
             }
            },
            "type": "bar"
           }
          ],
          "barpolar": [
           {
            "marker": {
             "line": {
              "color": "#E5ECF6",
              "width": 0.5
             },
             "pattern": {
              "fillmode": "overlay",
              "size": 10,
              "solidity": 0.2
             }
            },
            "type": "barpolar"
           }
          ],
          "carpet": [
           {
            "aaxis": {
             "endlinecolor": "#2a3f5f",
             "gridcolor": "white",
             "linecolor": "white",
             "minorgridcolor": "white",
             "startlinecolor": "#2a3f5f"
            },
            "baxis": {
             "endlinecolor": "#2a3f5f",
             "gridcolor": "white",
             "linecolor": "white",
             "minorgridcolor": "white",
             "startlinecolor": "#2a3f5f"
            },
            "type": "carpet"
           }
          ],
          "choropleth": [
           {
            "colorbar": {
             "outlinewidth": 0,
             "ticks": ""
            },
            "type": "choropleth"
           }
          ],
          "contour": [
           {
            "colorbar": {
             "outlinewidth": 0,
             "ticks": ""
            },
            "colorscale": [
             [
              0,
              "#0d0887"
             ],
             [
              0.1111111111111111,
              "#46039f"
             ],
             [
              0.2222222222222222,
              "#7201a8"
             ],
             [
              0.3333333333333333,
              "#9c179e"
             ],
             [
              0.4444444444444444,
              "#bd3786"
             ],
             [
              0.5555555555555556,
              "#d8576b"
             ],
             [
              0.6666666666666666,
              "#ed7953"
             ],
             [
              0.7777777777777778,
              "#fb9f3a"
             ],
             [
              0.8888888888888888,
              "#fdca26"
             ],
             [
              1,
              "#f0f921"
             ]
            ],
            "type": "contour"
           }
          ],
          "contourcarpet": [
           {
            "colorbar": {
             "outlinewidth": 0,
             "ticks": ""
            },
            "type": "contourcarpet"
           }
          ],
          "heatmap": [
           {
            "colorbar": {
             "outlinewidth": 0,
             "ticks": ""
            },
            "colorscale": [
             [
              0,
              "#0d0887"
             ],
             [
              0.1111111111111111,
              "#46039f"
             ],
             [
              0.2222222222222222,
              "#7201a8"
             ],
             [
              0.3333333333333333,
              "#9c179e"
             ],
             [
              0.4444444444444444,
              "#bd3786"
             ],
             [
              0.5555555555555556,
              "#d8576b"
             ],
             [
              0.6666666666666666,
              "#ed7953"
             ],
             [
              0.7777777777777778,
              "#fb9f3a"
             ],
             [
              0.8888888888888888,
              "#fdca26"
             ],
             [
              1,
              "#f0f921"
             ]
            ],
            "type": "heatmap"
           }
          ],
          "heatmapgl": [
           {
            "colorbar": {
             "outlinewidth": 0,
             "ticks": ""
            },
            "colorscale": [
             [
              0,
              "#0d0887"
             ],
             [
              0.1111111111111111,
              "#46039f"
             ],
             [
              0.2222222222222222,
              "#7201a8"
             ],
             [
              0.3333333333333333,
              "#9c179e"
             ],
             [
              0.4444444444444444,
              "#bd3786"
             ],
             [
              0.5555555555555556,
              "#d8576b"
             ],
             [
              0.6666666666666666,
              "#ed7953"
             ],
             [
              0.7777777777777778,
              "#fb9f3a"
             ],
             [
              0.8888888888888888,
              "#fdca26"
             ],
             [
              1,
              "#f0f921"
             ]
            ],
            "type": "heatmapgl"
           }
          ],
          "histogram": [
           {
            "marker": {
             "pattern": {
              "fillmode": "overlay",
              "size": 10,
              "solidity": 0.2
             }
            },
            "type": "histogram"
           }
          ],
          "histogram2d": [
           {
            "colorbar": {
             "outlinewidth": 0,
             "ticks": ""
            },
            "colorscale": [
             [
              0,
              "#0d0887"
             ],
             [
              0.1111111111111111,
              "#46039f"
             ],
             [
              0.2222222222222222,
              "#7201a8"
             ],
             [
              0.3333333333333333,
              "#9c179e"
             ],
             [
              0.4444444444444444,
              "#bd3786"
             ],
             [
              0.5555555555555556,
              "#d8576b"
             ],
             [
              0.6666666666666666,
              "#ed7953"
             ],
             [
              0.7777777777777778,
              "#fb9f3a"
             ],
             [
              0.8888888888888888,
              "#fdca26"
             ],
             [
              1,
              "#f0f921"
             ]
            ],
            "type": "histogram2d"
           }
          ],
          "histogram2dcontour": [
           {
            "colorbar": {
             "outlinewidth": 0,
             "ticks": ""
            },
            "colorscale": [
             [
              0,
              "#0d0887"
             ],
             [
              0.1111111111111111,
              "#46039f"
             ],
             [
              0.2222222222222222,
              "#7201a8"
             ],
             [
              0.3333333333333333,
              "#9c179e"
             ],
             [
              0.4444444444444444,
              "#bd3786"
             ],
             [
              0.5555555555555556,
              "#d8576b"
             ],
             [
              0.6666666666666666,
              "#ed7953"
             ],
             [
              0.7777777777777778,
              "#fb9f3a"
             ],
             [
              0.8888888888888888,
              "#fdca26"
             ],
             [
              1,
              "#f0f921"
             ]
            ],
            "type": "histogram2dcontour"
           }
          ],
          "mesh3d": [
           {
            "colorbar": {
             "outlinewidth": 0,
             "ticks": ""
            },
            "type": "mesh3d"
           }
          ],
          "parcoords": [
           {
            "line": {
             "colorbar": {
              "outlinewidth": 0,
              "ticks": ""
             }
            },
            "type": "parcoords"
           }
          ],
          "pie": [
           {
            "automargin": true,
            "type": "pie"
           }
          ],
          "scatter": [
           {
            "fillpattern": {
             "fillmode": "overlay",
             "size": 10,
             "solidity": 0.2
            },
            "type": "scatter"
           }
          ],
          "scatter3d": [
           {
            "line": {
             "colorbar": {
              "outlinewidth": 0,
              "ticks": ""
             }
            },
            "marker": {
             "colorbar": {
              "outlinewidth": 0,
              "ticks": ""
             }
            },
            "type": "scatter3d"
           }
          ],
          "scattercarpet": [
           {
            "marker": {
             "colorbar": {
              "outlinewidth": 0,
              "ticks": ""
             }
            },
            "type": "scattercarpet"
           }
          ],
          "scattergeo": [
           {
            "marker": {
             "colorbar": {
              "outlinewidth": 0,
              "ticks": ""
             }
            },
            "type": "scattergeo"
           }
          ],
          "scattergl": [
           {
            "marker": {
             "colorbar": {
              "outlinewidth": 0,
              "ticks": ""
             }
            },
            "type": "scattergl"
           }
          ],
          "scattermapbox": [
           {
            "marker": {
             "colorbar": {
              "outlinewidth": 0,
              "ticks": ""
             }
            },
            "type": "scattermapbox"
           }
          ],
          "scatterpolar": [
           {
            "marker": {
             "colorbar": {
              "outlinewidth": 0,
              "ticks": ""
             }
            },
            "type": "scatterpolar"
           }
          ],
          "scatterpolargl": [
           {
            "marker": {
             "colorbar": {
              "outlinewidth": 0,
              "ticks": ""
             }
            },
            "type": "scatterpolargl"
           }
          ],
          "scatterternary": [
           {
            "marker": {
             "colorbar": {
              "outlinewidth": 0,
              "ticks": ""
             }
            },
            "type": "scatterternary"
           }
          ],
          "surface": [
           {
            "colorbar": {
             "outlinewidth": 0,
             "ticks": ""
            },
            "colorscale": [
             [
              0,
              "#0d0887"
             ],
             [
              0.1111111111111111,
              "#46039f"
             ],
             [
              0.2222222222222222,
              "#7201a8"
             ],
             [
              0.3333333333333333,
              "#9c179e"
             ],
             [
              0.4444444444444444,
              "#bd3786"
             ],
             [
              0.5555555555555556,
              "#d8576b"
             ],
             [
              0.6666666666666666,
              "#ed7953"
             ],
             [
              0.7777777777777778,
              "#fb9f3a"
             ],
             [
              0.8888888888888888,
              "#fdca26"
             ],
             [
              1,
              "#f0f921"
             ]
            ],
            "type": "surface"
           }
          ],
          "table": [
           {
            "cells": {
             "fill": {
              "color": "#EBF0F8"
             },
             "line": {
              "color": "white"
             }
            },
            "header": {
             "fill": {
              "color": "#C8D4E3"
             },
             "line": {
              "color": "white"
             }
            },
            "type": "table"
           }
          ]
         },
         "layout": {
          "annotationdefaults": {
           "arrowcolor": "#2a3f5f",
           "arrowhead": 0,
           "arrowwidth": 1
          },
          "autotypenumbers": "strict",
          "coloraxis": {
           "colorbar": {
            "outlinewidth": 0,
            "ticks": ""
           }
          },
          "colorscale": {
           "diverging": [
            [
             0,
             "#8e0152"
            ],
            [
             0.1,
             "#c51b7d"
            ],
            [
             0.2,
             "#de77ae"
            ],
            [
             0.3,
             "#f1b6da"
            ],
            [
             0.4,
             "#fde0ef"
            ],
            [
             0.5,
             "#f7f7f7"
            ],
            [
             0.6,
             "#e6f5d0"
            ],
            [
             0.7,
             "#b8e186"
            ],
            [
             0.8,
             "#7fbc41"
            ],
            [
             0.9,
             "#4d9221"
            ],
            [
             1,
             "#276419"
            ]
           ],
           "sequential": [
            [
             0,
             "#0d0887"
            ],
            [
             0.1111111111111111,
             "#46039f"
            ],
            [
             0.2222222222222222,
             "#7201a8"
            ],
            [
             0.3333333333333333,
             "#9c179e"
            ],
            [
             0.4444444444444444,
             "#bd3786"
            ],
            [
             0.5555555555555556,
             "#d8576b"
            ],
            [
             0.6666666666666666,
             "#ed7953"
            ],
            [
             0.7777777777777778,
             "#fb9f3a"
            ],
            [
             0.8888888888888888,
             "#fdca26"
            ],
            [
             1,
             "#f0f921"
            ]
           ],
           "sequentialminus": [
            [
             0,
             "#0d0887"
            ],
            [
             0.1111111111111111,
             "#46039f"
            ],
            [
             0.2222222222222222,
             "#7201a8"
            ],
            [
             0.3333333333333333,
             "#9c179e"
            ],
            [
             0.4444444444444444,
             "#bd3786"
            ],
            [
             0.5555555555555556,
             "#d8576b"
            ],
            [
             0.6666666666666666,
             "#ed7953"
            ],
            [
             0.7777777777777778,
             "#fb9f3a"
            ],
            [
             0.8888888888888888,
             "#fdca26"
            ],
            [
             1,
             "#f0f921"
            ]
           ]
          },
          "colorway": [
           "#636efa",
           "#EF553B",
           "#00cc96",
           "#ab63fa",
           "#FFA15A",
           "#19d3f3",
           "#FF6692",
           "#B6E880",
           "#FF97FF",
           "#FECB52"
          ],
          "font": {
           "color": "#2a3f5f"
          },
          "geo": {
           "bgcolor": "white",
           "lakecolor": "white",
           "landcolor": "#E5ECF6",
           "showlakes": true,
           "showland": true,
           "subunitcolor": "white"
          },
          "hoverlabel": {
           "align": "left"
          },
          "hovermode": "closest",
          "mapbox": {
           "style": "light"
          },
          "paper_bgcolor": "white",
          "plot_bgcolor": "#E5ECF6",
          "polar": {
           "angularaxis": {
            "gridcolor": "white",
            "linecolor": "white",
            "ticks": ""
           },
           "bgcolor": "#E5ECF6",
           "radialaxis": {
            "gridcolor": "white",
            "linecolor": "white",
            "ticks": ""
           }
          },
          "scene": {
           "xaxis": {
            "backgroundcolor": "#E5ECF6",
            "gridcolor": "white",
            "gridwidth": 2,
            "linecolor": "white",
            "showbackground": true,
            "ticks": "",
            "zerolinecolor": "white"
           },
           "yaxis": {
            "backgroundcolor": "#E5ECF6",
            "gridcolor": "white",
            "gridwidth": 2,
            "linecolor": "white",
            "showbackground": true,
            "ticks": "",
            "zerolinecolor": "white"
           },
           "zaxis": {
            "backgroundcolor": "#E5ECF6",
            "gridcolor": "white",
            "gridwidth": 2,
            "linecolor": "white",
            "showbackground": true,
            "ticks": "",
            "zerolinecolor": "white"
           }
          },
          "shapedefaults": {
           "line": {
            "color": "#2a3f5f"
           }
          },
          "ternary": {
           "aaxis": {
            "gridcolor": "white",
            "linecolor": "white",
            "ticks": ""
           },
           "baxis": {
            "gridcolor": "white",
            "linecolor": "white",
            "ticks": ""
           },
           "bgcolor": "#E5ECF6",
           "caxis": {
            "gridcolor": "white",
            "linecolor": "white",
            "ticks": ""
           }
          },
          "title": {
           "x": 0.05
          },
          "xaxis": {
           "automargin": true,
           "gridcolor": "white",
           "linecolor": "white",
           "ticks": "",
           "title": {
            "standoff": 15
           },
           "zerolinecolor": "white",
           "zerolinewidth": 2
          },
          "yaxis": {
           "automargin": true,
           "gridcolor": "white",
           "linecolor": "white",
           "ticks": "",
           "title": {
            "standoff": 15
           },
           "zerolinecolor": "white",
           "zerolinewidth": 2
          }
         }
        },
        "xaxis": {
         "anchor": "y",
         "domain": [
          0,
          1
         ],
         "title": {
          "text": "x"
         }
        },
        "yaxis": {
         "anchor": "x",
         "domain": [
          0,
          1
         ],
         "title": {
          "text": "y"
         }
        }
       }
      }
     },
     "metadata": {},
     "output_type": "display_data"
    }
   ],
   "source": [
    "import plotly.express as px\n",
    "\n",
    "df = pd.DataFrame(model.data[1:], columns=model.data[0])\n",
    "px.line(x=df[\"Iteration\"], y=df[\"Accuracy\"])"
   ]
  }
 ],
 "metadata": {
  "kernelspec": {
   "display_name": "Python 3",
   "language": "python",
   "name": "python3"
  },
  "language_info": {
   "codemirror_mode": {
    "name": "ipython",
    "version": 3
   },
   "file_extension": ".py",
   "mimetype": "text/x-python",
   "name": "python",
   "nbconvert_exporter": "python",
   "pygments_lexer": "ipython3",
   "version": "3.12.2"
  },
  "orig_nbformat": 4,
  "vscode": {
   "interpreter": {
    "hash": "8bbe710e9813265a6a5e2ce498926d4cd76dac7af6752690d88ab9309565465d"
   }
  }
 },
 "nbformat": 4,
 "nbformat_minor": 2
}
